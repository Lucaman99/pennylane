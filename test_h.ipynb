{
 "cells": [
  {
   "cell_type": "markdown",
   "metadata": {},
   "source": [
    "# Testing New Hamiltonians"
   ]
  },
  {
   "cell_type": "code",
   "execution_count": 1,
   "metadata": {},
   "outputs": [],
   "source": [
    "import pennylane as qml\n",
    "from pennylane import qaoa\n",
    "import numpy as np\n",
    "from matplotlib import pyplot as plt\n",
    "import networkx as nx"
   ]
  },
  {
   "cell_type": "code",
   "execution_count": 2,
   "metadata": {},
   "outputs": [
    {
     "data": {
      "image/png": "[encoded data removed]",
      "text/plain": [
       "<Figure size 432x288 with 1 Axes>"
      ]
     },
     "metadata": {},
     "output_type": "display_data"
    }
   ],
   "source": [
    "# Defines the graph\n",
    "edges = [(0, 1), (2, 0), (1, 2), (2, 3)]\n",
    "graph = nx.Graph(edges)\n",
    "\n",
    "# Draws the graph\n",
    "nx.draw(graph)\n",
    "plt.show()"
   ]
  },
  {
   "cell_type": "code",
   "execution_count": 3,
   "metadata": {},
   "outputs": [
    {
     "name": "stdout",
     "output_type": "stream",
     "text": [
      "Cost Hamiltonian\n",
      "(0.75) [Z0 Z1]\n",
      "+ (-0.5) [Z0]\n",
      "+ (-0.5) [Z1]\n",
      "+ (0.75) [Z0 Z2]\n",
      "+ (-1.25) [Z2]\n",
      "+ (0.75) [Z1 Z2]\n",
      "+ (0.75) [Z2 Z3]\n",
      "+ (0.25) [Z3]\n",
      "--------------------\n",
      "Mixer Hamiltonian\n",
      "(1) [X0]\n",
      "+ (1) [X1]\n",
      "+ (1) [X2]\n",
      "+ (1) [X3]\n"
     ]
    }
   ],
   "source": [
    "cost_h, mixer_h = qaoa.max_independent_set(graph, constrained=False)\n",
    "\n",
    "print(\"Cost Hamiltonian\")\n",
    "print(cost_h)\n",
    "print(\"--------------------\")\n",
    "print(\"Mixer Hamiltonian\")\n",
    "print(mixer_h)"
   ]
  },
  {
   "cell_type": "code",
   "execution_count": 5,
   "metadata": {},
   "outputs": [],
   "source": [
    "# Creates a layer of the QAOA ansatz\n",
    "def qaoa_layer(gamma, alpha):\n",
    "    qaoa.cost_layer(gamma, cost_h)\n",
    "    qaoa.mixer_layer(alpha, mixer_h)"
   ]
  },
  {
   "cell_type": "code",
   "execution_count": 6,
   "metadata": {},
   "outputs": [],
   "source": [
    "# Defines the wires\n",
    "wires = graph.nodes\n",
    "depth = 2\n",
    "\n",
    "# Defines the full QAOA circuit\n",
    "def circuit(params, **kwargs):\n",
    "    for w in wires:\n",
    "        qml.Hadamard(wires=w)\n",
    "    qml.layer(qaoa_layer, depth, params[0], params[1])"
   ]
  },
  {
   "cell_type": "code",
   "execution_count": 7,
   "metadata": {},
   "outputs": [],
   "source": [
    "# Defines the device\n",
    "dev = qml.device('qulacs.simulator', wires=wires)\n",
    "\n",
    "# Defines the cost function\n",
    "cost_function = qml.VQECost(circuit, cost_h, dev)"
   ]
  },
  {
   "cell_type": "code",
   "execution_count": 8,
   "metadata": {},
   "outputs": [
    {
     "name": "stdout",
     "output_type": "stream",
     "text": [
      "Step 1 / 40\n",
      "Step 2 / 40\n",
      "Step 3 / 40\n",
      "Step 4 / 40\n",
      "Step 5 / 40\n",
      "Step 6 / 40\n",
      "Step 7 / 40\n",
      "Step 8 / 40\n",
      "Step 9 / 40\n",
      "Step 10 / 40\n",
      "Step 11 / 40\n",
      "Step 12 / 40\n",
      "Step 13 / 40\n",
      "Step 14 / 40\n",
      "Step 15 / 40\n",
      "Step 16 / 40\n",
      "Step 17 / 40\n",
      "Step 18 / 40\n",
      "Step 19 / 40\n",
      "Step 20 / 40\n",
      "Step 21 / 40\n",
      "Step 22 / 40\n",
      "Step 23 / 40\n",
      "Step 24 / 40\n",
      "Step 25 / 40\n",
      "Step 26 / 40\n",
      "Step 27 / 40\n",
      "Step 28 / 40\n",
      "Step 29 / 40\n",
      "Step 30 / 40\n",
      "Step 31 / 40\n",
      "Step 32 / 40\n",
      "Step 33 / 40\n",
      "Step 34 / 40\n",
      "Step 35 / 40\n",
      "Step 36 / 40\n",
      "Step 37 / 40\n",
      "Step 38 / 40\n",
      "Step 39 / 40\n",
      "Step 40 / 40\n",
      "Optimal Parameters: [[0.3891611894097254, 0.37704564154063525], [-0.8977181544310622, -0.5684742841281982]]\n"
     ]
    }
   ],
   "source": [
    "# Defines the optimizer, steps, and initial parameters\n",
    "optimizer = qml.GradientDescentOptimizer()\n",
    "steps = 40\n",
    "params = [\n",
    "    [np.random.randint(-100, 100)/100 for i in range(depth)],\n",
    "    [np.random.randint(-100, 100)/100 for i in range(depth)]\n",
    "]\n",
    "\n",
    "# Optimizes the cost function\n",
    "for i in range(steps):\n",
    "    params = optimizer.step(cost_function, params)\n",
    "    print(\"Step {} / {}\".format(i+1, steps))\n",
    "\n",
    "# Prints the optimal parameters\n",
    "print(\"Optimal Parameters: {}\".format(params))"
   ]
  },
  {
   "cell_type": "code",
   "execution_count": 9,
   "metadata": {},
   "outputs": [],
   "source": [
    "@qml.qnode(dev)\n",
    "def probability_circuit(gamma, alpha):\n",
    "    circuit([gamma, alpha])\n",
    "    return qml.probs(wires=wires)\n",
    "\n",
    "probs = probability_circuit(params[0], params[1])"
   ]
  },
  {
   "cell_type": "code",
   "execution_count": 10,
   "metadata": {},
   "outputs": [
    {
     "data": {
      "image/png": "[encoded data removed]",
      "text/plain": [
       "<Figure size 576x396 with 1 Axes>"
      ]
     },
     "metadata": {},
     "output_type": "display_data"
    }
   ],
   "source": [
    "plt.style.use('seaborn')\n",
    "plt.bar(range(2**len(wires)), probs)\n",
    "plt.show()"
   ]
  },
  {
   "cell_type": "code",
   "execution_count": 17,
   "metadata": {},
   "outputs": [
    {
     "name": "stdout",
     "output_type": "stream",
     "text": [
      "(0.75) [Z0 Z1]\n",
      "+ (-0.625) [Z0]\n",
      "+ (-0.5) [Z1]\n",
      "+ (0.75) [Z0 Z2]\n",
      "+ (-1.25) [Z2]\n",
      "+ (0.75) [Z1 Z2]\n",
      "+ (0.75) [Z2 Z3]\n",
      "+ (0.125) [Z3]\n",
      "+ (-0.125) [Z0 Z3]\n"
     ]
    }
   ],
   "source": [
    "# We then have to reward the edge 00 between nodes 0 and 4\n",
    "\n",
    "new_cost_h = cost_h + 0.5*qaoa.edge_driver(nx.Graph([(0, 3)]), ['00'])\n",
    "print(new_cost_h)"
   ]
  },
  {
   "cell_type": "code",
   "execution_count": 18,
   "metadata": {},
   "outputs": [
    {
     "name": "stdout",
     "output_type": "stream",
     "text": [
      "Step 1 / 40\n",
      "Step 2 / 40\n",
      "Step 3 / 40\n",
      "Step 4 / 40\n",
      "Step 5 / 40\n",
      "Step 6 / 40\n",
      "Step 7 / 40\n",
      "Step 8 / 40\n",
      "Step 9 / 40\n",
      "Step 10 / 40\n",
      "Step 11 / 40\n",
      "Step 12 / 40\n",
      "Step 13 / 40\n",
      "Step 14 / 40\n",
      "Step 15 / 40\n",
      "Step 16 / 40\n",
      "Step 17 / 40\n",
      "Step 18 / 40\n",
      "Step 19 / 40\n",
      "Step 20 / 40\n",
      "Step 21 / 40\n",
      "Step 22 / 40\n",
      "Step 23 / 40\n",
      "Step 24 / 40\n",
      "Step 25 / 40\n",
      "Step 26 / 40\n",
      "Step 27 / 40\n",
      "Step 28 / 40\n",
      "Step 29 / 40\n",
      "Step 30 / 40\n",
      "Step 31 / 40\n",
      "Step 32 / 40\n",
      "Step 33 / 40\n",
      "Step 34 / 40\n",
      "Step 35 / 40\n",
      "Step 36 / 40\n",
      "Step 37 / 40\n",
      "Step 38 / 40\n",
      "Step 39 / 40\n",
      "Step 40 / 40\n",
      "Optimal Parameters: [[-0.5866837623303198, -0.9402952118348122], [-0.5400674491099385, -0.8465500520997794]]\n"
     ]
    }
   ],
   "source": [
    "# Creates a layer of the QAOA ansatz\n",
    "def new_qaoa_layer(gamma, alpha):\n",
    "    qaoa.cost_layer(gamma, new_cost_h)\n",
    "    qaoa.mixer_layer(alpha, mixer_h)\n",
    "\n",
    "# Creates the new circuit\n",
    "def circuit(params, **kwargs):\n",
    "    for w in wires:\n",
    "        qml.Hadamard(wires=w)\n",
    "    qml.layer(new_qaoa_layer, depth, params[0], params[1])\n",
    "\n",
    "# Optimizes the circuit\n",
    "\n",
    "cost_function = qml.VQECost(circuit, new_cost_h, dev)\n",
    "\n",
    "# Defines the optimizer, steps, and initial parameters\n",
    "optimizer = qml.GradientDescentOptimizer()\n",
    "steps = 40\n",
    "params = [\n",
    "    [np.random.randint(-100, 100)/100 for i in range(depth)],\n",
    "    [np.random.randint(-100, 100)/100 for i in range(depth)]\n",
    "]\n",
    "\n",
    "# Optimizes the cost function\n",
    "for i in range(steps):\n",
    "    params = optimizer.step(cost_function, params)\n",
    "    print(\"Step {} / {}\".format(i+1, steps))\n",
    "\n",
    "# Prints the optimal parameters\n",
    "print(\"Optimal Parameters: {}\".format(params))"
   ]
  },
  {
   "cell_type": "code",
   "execution_count": 20,
   "metadata": {},
   "outputs": [
    {
     "data": {
      "image/png": "[encoded data removed]",
      "text/plain": [
       "<Figure size 576x396 with 1 Axes>"
      ]
     },
     "metadata": {},
     "output_type": "display_data"
    }
   ],
   "source": [
    "@qml.qnode(dev)\n",
    "def probability_circuit(gamma, alpha):\n",
    "    circuit([gamma, alpha])\n",
    "    return qml.probs(wires=wires)\n",
    "\n",
    "probs = probability_circuit(params[0], params[1])\n",
    "\n",
    "plt.style.use('seaborn')\n",
    "plt.bar(range(2**len(wires)), probs)\n",
    "plt.show()"
   ]
  },
  {
   "cell_type": "code",
   "execution_count": null,
   "metadata": {},
   "outputs": [],
   "source": []
  }
 ],
 "metadata": {
  "kernelspec": {
   "display_name": "Python 3",
   "language": "python",
   "name": "python3"
  },
  "language_info": {
   "codemirror_mode": {
    "name": "ipython",
    "version": 3
   },
   "file_extension": ".py",
   "mimetype": "text/x-python",
   "name": "python",
   "nbconvert_exporter": "python",
   "pygments_lexer": "ipython3",
   "version": "3.8.5"
  }
 },
 "nbformat": 4,
 "nbformat_minor": 4
}
