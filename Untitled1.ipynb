{
 "cells": [
  {
   "cell_type": "code",
   "execution_count": 1,
   "metadata": {},
   "outputs": [],
   "source": [
    "import pennylane as qml"
   ]
  },
  {
   "cell_type": "code",
   "execution_count": 2,
   "metadata": {},
   "outputs": [],
   "source": [
    "dev = qml.device('default.qubit', wires=3)\n",
    "\n",
    "@qml.qnode(dev)\n",
    "def circuit():\n",
    "    H = 3 * qml.PauliX(0) + qml.PauliZ(1) @ qml.PauliX(0)\n",
    "    return qml.expval(H)"
   ]
  },
  {
   "cell_type": "code",
   "execution_count": 3,
   "metadata": {},
   "outputs": [],
   "source": [
    "with qml.tape.QuantumTape() as tape:\n",
    "    H = qml.Hamiltonian([1, 1], [qml.PauliX(0), qml.PauliZ(1)])\n",
    "    #qml.Hamiltonian([1], [qml.PauliX(0) @ qml.PauliY(1)])\n",
    "    #H = qml.PauliZ(0) @ qml.PauliX(1) + 2 * qml.PauliX(2)"
   ]
  },
  {
   "cell_type": "code",
   "execution_count": 4,
   "metadata": {},
   "outputs": [
    {
     "name": "stdout",
     "output_type": "stream",
     "text": [
      "[PauliX(wires=[0]), PauliZ(wires=[1]), <Hamiltonian: terms=2, wires=[0, 1]>]\n"
     ]
    }
   ],
   "source": [
    "print(tape.queue)"
   ]
  },
  {
   "cell_type": "code",
   "execution_count": 1,
   "metadata": {},
   "outputs": [],
   "source": [
    "import pennylane as qml\n",
    "from pennylane import numpy as np\n",
    "from pennylane.interfaces.autograd import AutogradInterface\n",
    "\n",
    "dev = qml.device(\"default.qubit\", wires=3)\n",
    "\n",
    "with qml.tape.JacobianTape() as tape:\n",
    "    for i in range(2):\n",
    "        qml.RX(np.array(0, requires_grad=True), wires=0)\n",
    "        qml.RX(np.array(0, requires_grad=True), wires=1)\n",
    "        qml.RX(np.array(0, requires_grad=True), wires=2)\n",
    "        qml.CNOT(wires=[0, 1])\n",
    "        qml.CNOT(wires=[1, 2])\n",
    "        qml.CNOT(wires=[2, 0])\n",
    "\n",
    "    #H = -0.2 * qml.PauliX(1) + 0.5 * qml.PauliZ(1) @ qml.PauliY(2) + qml.PauliZ(0)\n",
    "    H = qml.Hamiltonian([-0.2, 0.5, 1], [qml.PauliX(1), qml.PauliZ(1) @ qml.PauliY(2), qml.PauliZ(0)])\n",
    "    qml.expval(H)\n",
    "\n",
    "AutogradInterface.apply(tape)\n",
    "\n",
    "def cost(x):\n",
    "    tape.set_parameters(x)\n",
    "    tapes, fn = qml.transforms.hamiltonian_expand(tape)\n",
    "    res = [t.execute(dev) for t in tapes]\n",
    "    return fn(res)"
   ]
  },
  {
   "cell_type": "code",
   "execution_count": 2,
   "metadata": {},
   "outputs": [
    {
     "name": "stdout",
     "output_type": "stream",
     "text": [
      "0.42294409781940356\n"
     ]
    }
   ],
   "source": [
    "x = np.array([0.1, 0.67, 0.3, 0.4, -0.5, 0.7], requires_grad=True)\n",
    "print(cost(x))"
   ]
  },
  {
   "cell_type": "code",
   "execution_count": null,
   "metadata": {},
   "outputs": [],
   "source": []
  }
 ],
 "metadata": {
  "kernelspec": {
   "display_name": "Python 3",
   "language": "python",
   "name": "python3"
  },
  "language_info": {
   "codemirror_mode": {
    "name": "ipython",
    "version": 3
   },
   "file_extension": ".py",
   "mimetype": "text/x-python",
   "name": "python",
   "nbconvert_exporter": "python",
   "pygments_lexer": "ipython3",
   "version": "3.8.7"
  }
 },
 "nbformat": 4,
 "nbformat_minor": 4
}
