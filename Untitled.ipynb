{
 "cells": [
  {
   "cell_type": "code",
   "execution_count": 1,
   "metadata": {},
   "outputs": [],
   "source": [
    "import pennylane as qml\n",
    "qml.enable_tape()"
   ]
  },
  {
   "cell_type": "code",
   "execution_count": 2,
   "metadata": {},
   "outputs": [],
   "source": [
    "with qml.tape.QuantumTape() as tape:\n",
    "    qml.Hadamard(wires=1)\n",
    "    qml.CNOT(wires=[0, 1])\n",
    "    H = qml.Hamiltonian([1, 1], [qml.PauliZ(0), qml.PauliX(1)])\n",
    "    [qml.expval(qml.PauliZ(0)), qml.expval(qml.PauliZ(0) @ qml.PauliX(1))]"
   ]
  },
  {
   "cell_type": "code",
   "execution_count": 3,
   "metadata": {},
   "outputs": [
    {
     "name": "stdout",
     "output_type": "stream",
     "text": [
      "<class 'pennylane.tape.measure.MeasurementProcess'>\n"
     ]
    }
   ],
   "source": [
    "print(type(tape.measurements[0]))"
   ]
  },
  {
   "cell_type": "code",
   "execution_count": 7,
   "metadata": {},
   "outputs": [
    {
     "name": "stdout",
     "output_type": "stream",
     "text": [
      "[tensor(3., requires_grad=True), tensor(1., requires_grad=True), tensor(2.22044605e-16, requires_grad=True), tensor(1., requires_grad=True)]\n"
     ]
    }
   ],
   "source": [
    "dev = qml.device('default.qubit', wires=4)\n",
    "\n",
    "@qml.qnode(dev)\n",
    "def circuit():\n",
    "    #qml.Hadamard(wires=0)\n",
    "    #qml.Hadamard(wires=2)\n",
    "    #qml.CNOT(wires=[0, 1])\n",
    "    H1 = qml.Hamiltonian([1, 1], [qml.PauliZ(0), qml.PauliZ(1)])\n",
    "    H2 = qml.Hamiltonian([3, 0.5], [qml.PauliZ(0) @ qml.PauliZ(2), qml.PauliX(2)])\n",
    "    return [qml.expval(H2), qml.expval(H1), qml.expval(qml.PauliZ(0) @ qml.PauliX(1)), qml.expval(qml.PauliZ(0))]\n",
    "\n",
    "print(circuit())"
   ]
  },
  {
   "cell_type": "code",
   "execution_count": 5,
   "metadata": {},
   "outputs": [],
   "source": [
    "dev = qml.device('default.qubit', wires=3)\n",
    "\n",
    "@qml.qnode(dev)\n",
    "def circuit():\n",
    "    qml.Hadamard(wires=0)\n",
    "    qml.Hadamard(wires=2)\n",
    "\n"
   ]
  },
  {
   "cell_type": "code",
   "execution_count": 5,
   "metadata": {},
   "outputs": [
    {
     "name": "stdout",
     "output_type": "stream",
     "text": [
      "1\n"
     ]
    }
   ],
   "source": []
  },
  {
   "cell_type": "code",
   "execution_count": null,
   "metadata": {},
   "outputs": [],
   "source": []
  }
 ],
 "metadata": {
  "kernelspec": {
   "display_name": "Python 3",
   "language": "python",
   "name": "python3"
  },
  "language_info": {
   "codemirror_mode": {
    "name": "ipython",
    "version": 3
   },
   "file_extension": ".py",
   "mimetype": "text/x-python",
   "name": "python",
   "nbconvert_exporter": "python",
   "pygments_lexer": "ipython3",
   "version": "3.8.7"
  }
 },
 "nbformat": 4,
 "nbformat_minor": 4
}
