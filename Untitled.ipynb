{
 "cells": [
  {
   "cell_type": "markdown",
   "metadata": {},
   "source": [
    "## Experimenting with Tensor Networks"
   ]
  },
  {
   "cell_type": "code",
   "execution_count": 63,
   "metadata": {},
   "outputs": [],
   "source": [
    "import pennylane as qml\n",
    "import numpy as np\n",
    "import tensornetwork as tn"
   ]
  },
  {
   "cell_type": "code",
   "execution_count": 64,
   "metadata": {},
   "outputs": [
    {
     "name": "stdout",
     "output_type": "stream",
     "text": [
      "[Hadamard(wires=[0]), CNOT(wires=[0, 1])]\n"
     ]
    }
   ],
   "source": [
    "wires = range(2)\n",
    "\n",
    "@qml.template\n",
    "def circuit():\n",
    "    qml.Hadamard(wires=0)\n",
    "    qml.CNOT(wires=[0, 1])\n",
    "    #return [qml.expval(qml.PauliZ(i)) for i in wires]\n",
    "\n",
    "with qml._queuing.OperationRecorder() as rec:\n",
    "    circuit()\n",
    "\n",
    "print(rec.operations)\n",
    "#print(rec.observables)"
   ]
  },
  {
   "cell_type": "code",
   "execution_count": 60,
   "metadata": {},
   "outputs": [],
   "source": [
    "def convert_qubit_op_tensor(op):\n",
    "    '''Converts a PennyLane operation into a tensor'''\n",
    "    \n",
    "    matrix = op.matrix\n",
    "    dim = int(np.log(len(matrix)) / np.log(2))\n",
    "    full_tensor = np.zeros(tuple([2 for i in range(2*dim)]), dtype=complex)\n",
    "    \n",
    "    for i in range(0, len(matrix)):\n",
    "        for j in range(0, len(matrix[i])):\n",
    "            if matrix[i][j] > 0:\n",
    "                \n",
    "                bin1 = [int(b) for b in bin(i)[2:].zfill(dim)]\n",
    "                bin2 = [int(b) for b in bin(j)[2:].zfill(dim)]\n",
    "                ind = tuple(bin1+bin2)\n",
    "                \n",
    "                full_tensor[ind] = matrix[i][j]\n",
    "    \n",
    "    return tn.Node(full_tensor)"
   ]
  },
  {
   "cell_type": "code",
   "execution_count": 61,
   "metadata": {},
   "outputs": [],
   "source": [
    "def apply_gate(qubit_collection, gate, wires):\n",
    "    '''Applies a gate to a state by connecting edges'''\n",
    "    op = convert_qubit_op_tensor(gate)\n",
    "    for i, w in enumerate(wires):\n",
    "        tn.connect(qubit_collection[w], op[i])\n",
    "        qubit_collection[w] = op[i + len(wires)]\n",
    "\n",
    "def apply_obs(qubit_collection, observable, wires):\n",
    "    \n",
    "\n",
    "def tensor_network(template):\n",
    "    '''Converts a PennyLane circuit into a TensorNetwork'''\n",
    "    \n",
    "    # Unpackages the operations from the supplied template\n",
    "    with qml._queuing.OperationRecorder() as rec:\n",
    "        template()\n",
    "    \n",
    "    # Records the operations and observables\n",
    "    operations = rec.operations\n",
    "    observables = rec.observables\n",
    "    nodes = []\n",
    "    \n",
    "    with tn.NodeCollection(nodes):\n",
    "        states = [\n",
    "            tn.Node(np.array([1.0+0.0j, 0.0+0.0j])) for i in range(2)\n",
    "        ]\n",
    "        qubits = [state[0] for state in states]\n",
    "        for gate in operations:\n",
    "            apply_gate(qubits, gate, gate.wires.tolist())\n",
    "    \n",
    "    result = tn.contractors.optimal(nodes, output_edge_order=qubits)\n",
    "    return result.tensor"
   ]
  },
  {
   "cell_type": "code",
   "execution_count": 62,
   "metadata": {},
   "outputs": [
    {
     "name": "stdout",
     "output_type": "stream",
     "text": [
      "[[0.70710678+0.j 0.        +0.j]\n",
      " [0.        +0.j 0.70710678+0.j]]\n"
     ]
    }
   ],
   "source": [
    "print(tensor_network(circuit))"
   ]
  }
 ],
 "metadata": {
  "kernelspec": {
   "display_name": "Python 3",
   "language": "python",
   "name": "python3"
  },
  "language_info": {
   "codemirror_mode": {
    "name": "ipython",
    "version": 3
   },
   "file_extension": ".py",
   "mimetype": "text/x-python",
   "name": "python",
   "nbconvert_exporter": "python",
   "pygments_lexer": "ipython3",
   "version": "3.8.5"
  }
 },
 "nbformat": 4,
 "nbformat_minor": 4
}
