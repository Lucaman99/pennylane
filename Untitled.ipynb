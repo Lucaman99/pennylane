{
 "cells": [
  {
   "cell_type": "markdown",
   "metadata": {},
   "source": [
    "## Testing"
   ]
  },
  {
   "cell_type": "markdown",
   "metadata": {},
   "source": [
    "1. Initial parameters are chosen by the user, along with some ansatz function\n",
    "2. "
   ]
  },
  {
   "cell_type": "code",
   "execution_count": 1,
   "metadata": {},
   "outputs": [],
   "source": [
    "import pennylane as qml\n",
    "import numpy as np\n",
    "from matplotlib import pyplot as plt\n",
    "import networkx as nx"
   ]
  },
  {
   "cell_type": "code",
   "execution_count": 2,
   "metadata": {},
   "outputs": [],
   "source": [
    "qml.enable_tape()"
   ]
  },
  {
   "cell_type": "code",
   "execution_count": 3,
   "metadata": {},
   "outputs": [],
   "source": [
    "with qml.tape.QuantumTape() as tape:\n",
    "    qml.PauliY(wires=1)\n",
    "    qml.PauliX(wires=2)\n",
    "    qml.CNOT(wires=[0, 1])\n",
    "    qml.CNOT(wires=[1, 2])\n",
    "    qml.PauliX(wires=0)\n",
    "    [qml.expval(qml.PauliZ(wires=[0])), qml.expval(qml.PauliZ(wires=[1])), qml.expval(qml.PauliZ(wires=[2]))]"
   ]
  },
  {
   "cell_type": "code",
   "execution_count": 4,
   "metadata": {},
   "outputs": [
    {
     "ename": "AttributeError",
     "evalue": "'DiGraph' object has no attribute 'edge'",
     "output_type": "error",
     "traceback": [
      "\u001b[0;31m---------------------------------------------------------------------------\u001b[0m",
      "\u001b[0;31mAttributeError\u001b[0m                            Traceback (most recent call last)",
      "\u001b[0;32m<ipython-input-4-52a6032baae2>\u001b[0m in \u001b[0;36m<module>\u001b[0;34m\u001b[0m\n\u001b[1;32m     57\u001b[0m         \u001b[0;32mfor\u001b[0m \u001b[0mo\u001b[0m \u001b[0;32min\u001b[0m \u001b[0mobs\u001b[0m\u001b[0;34m:\u001b[0m\u001b[0;34m\u001b[0m\u001b[0;34m\u001b[0m\u001b[0m\n\u001b[1;32m     58\u001b[0m             \u001b[0mg\u001b[0m \u001b[0;34m=\u001b[0m \u001b[0mcirc\u001b[0m\u001b[0;34m.\u001b[0m\u001b[0mcopy\u001b[0m\u001b[0;34m(\u001b[0m\u001b[0;34m)\u001b[0m\u001b[0;34m\u001b[0m\u001b[0;34m\u001b[0m\u001b[0m\n\u001b[0;32m---> 59\u001b[0;31m             \u001b[0mg\u001b[0m\u001b[0;34m.\u001b[0m\u001b[0medge\u001b[0m\u001b[0;34m\u001b[0m\u001b[0;34m\u001b[0m\u001b[0m\n\u001b[0m",
      "\u001b[0;31mAttributeError\u001b[0m: 'DiGraph' object has no attribute 'edge'"
     ]
    },
    {
     "data": {
      "image/png": "[encoded data removed]",
      "text/plain": [
       "<Figure size 432x288 with 1 Axes>"
      ]
     },
     "metadata": {},
     "output_type": "display_data"
    }
   ],
   "source": [
    "ops = tape.operations\n",
    "obs = tape.observables\n",
    "\n",
    "# Defines the partition of operations and observables\n",
    "partition = [{ops[0], ops[2], ops[4], obs[0]}, {ops[1], ops[3], obs[1], obs[2]}]\n",
    "#print(partition)\n",
    "\n",
    "# Defines the circuit graph\n",
    "graph = tape.graph.graph\n",
    "nx.draw(graph)\n",
    "\n",
    "# Identifies where there are crossings between partitions\n",
    "\n",
    "digital_log = []\n",
    "\n",
    "for node in graph.nodes:\n",
    "    # Finds the successor nodes\n",
    "    suc = graph.successors(node)\n",
    "    for s in suc:\n",
    "        a = True\n",
    "        for p in partition:\n",
    "            if {node, s}.issubset(p):\n",
    "                a = False\n",
    "        if a:\n",
    "            digital_log.append((node, s))\n",
    "\n",
    "# Replaces the edges in question with virtual qubit communication\n",
    "\n",
    "obs = [\n",
    "    qml.PauliZ,\n",
    "    qml.PauliX, \n",
    "    qml.PauliY,\n",
    "    qml.Identity\n",
    "]\n",
    "\n",
    "states = [\n",
    "    [[1, 0], [0, 1]],\n",
    "    [[1/np.sqrt(2), 1/np.sqrt(2)], [1/np.sqrt(2), -1/np.sqrt(2)]],\n",
    "    [[1/np.sqrt(2), 0+1j/np.sqrt(2)], [1/np.sqrt(2), 0-1j/np.sqrt(2)]],\n",
    "    [[1, 0], [0, 1]]\n",
    "]\n",
    "\n",
    "vals = [\n",
    "    [0.5, -0.5],\n",
    "    [0.5, -0.5],\n",
    "    [0.5, -0.5],\n",
    "    [0.5, 0.5]\n",
    "]\n",
    "\n",
    "circuit_log = [graph]\n",
    "\n",
    "for entry in digital_log:\n",
    "    new_circuit_log = []\n",
    "    \n",
    "    for circ in circuit_log:\n",
    "        circ.remove_edge(entry[0], entry[1])\n",
    "        for o in obs:\n",
    "            g = circ.copy()\n",
    "            g.add_edge(entry[0], )"
   ]
  },
  {
   "cell_type": "code",
   "execution_count": null,
   "metadata": {},
   "outputs": [],
   "source": []
  }
 ],
 "metadata": {
  "kernelspec": {
   "display_name": "Python 3",
   "language": "python",
   "name": "python3"
  },
  "language_info": {
   "codemirror_mode": {
    "name": "ipython",
    "version": 3
   },
   "file_extension": ".py",
   "mimetype": "text/x-python",
   "name": "python",
   "nbconvert_exporter": "python",
   "pygments_lexer": "ipython3",
   "version": "3.8.5"
  }
 },
 "nbformat": 4,
 "nbformat_minor": 4
}
