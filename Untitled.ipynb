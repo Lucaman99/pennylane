{
 "cells": [
  {
   "cell_type": "code",
   "execution_count": 1,
   "metadata": {},
   "outputs": [],
   "source": [
    "%matplotlib inline\n",
    "import pennylane as qml\n",
    "import numpy as np\n",
    "from pennylane.visualize import *"
   ]
  },
  {
   "cell_type": "code",
   "execution_count": 2,
   "metadata": {},
   "outputs": [
    {
     "data": {
      "image/png": "[encoded data removed]",
      "text/plain": [
       "<Figure size 432x288 with 1 Axes>"
      ]
     },
     "metadata": {
      "needs_background": "light"
     },
     "output_type": "display_data"
    },
    {
     "name": "stdout",
     "output_type": "stream",
     "text": [
      "Optimization Complete\n"
     ]
    }
   ],
   "source": [
    "dev = qml.device('default.qubit', wires=3)\n",
    "@qml.qnode(dev)\n",
    "def circuit(gamma):\n",
    "    \n",
    "    qml.RX(gamma, wires=0)\n",
    "    qml.RY(gamma, wires=1)\n",
    "    qml.RX(gamma, wires=2)\n",
    "    qml.CNOT(wires=[0, 2])\n",
    "    qml.RY(gamma, wires=1)\n",
    "    \n",
    "    return [qml.expval(qml.PauliZ(i)) for i in range(3)]\n",
    "\n",
    "def cost(gamma):\n",
    "    return sum(circuit(gamma[0]))\n",
    "\n",
    "optimizer = qml.GradientDescentOptimizer()\n",
    "params = np.array([1.])\n",
    "steps = 50\n",
    "\n",
    "with Visualize(steps, cost_fn=cost) as viz:\n",
    "    \n",
    "    for i in range(steps):\n",
    "        \n",
    "        params = optimizer.step(cost, params)\n",
    "        viz.update(params=params)\n",
    "        viz.graph()"
   ]
  },
  {
   "cell_type": "code",
   "execution_count": 1,
   "metadata": {},
   "outputs": [],
   "source": [
    "import pennylane as qml\n",
    "from pennylane.visualize import Visualize\n",
    "import numpy as np\n",
    "\n",
    "dev = qml.device('default.qubit', wires=3)\n",
    "\n",
    "@qml.qnode(dev)\n",
    "def circuit(gamma):\n",
    "\n",
    "    qml.RX(gamma, wires=0)\n",
    "    qml.RY(gamma, wires=1)\n",
    "    qml.RX(gamma, wires=2)\n",
    "    qml.CNOT(wires=[0, 2])\n",
    "    qml.RY(gamma, wires=1)\n",
    "\n",
    "    return [qml.expval(qml.PauliZ(i)) for i in range(3)]\n",
    "\n",
    "def cost(gamma):\n",
    "    return sum(circuit(gamma[0]))"
   ]
  },
  {
   "cell_type": "code",
   "execution_count": 2,
   "metadata": {},
   "outputs": [
    {
     "name": "stdout",
     "output_type": "stream",
     "text": [
      "Beginning Optimization\n",
      "--------------------------\n",
      "Optimization Step 1 / 5\n",
      "Cost: 0.29001330299410394\n",
      "Parameters: [1.03569363]\n",
      "--------------------------\n",
      "Optimization Step 2 / 5\n",
      "Cost: 0.16958978666464564\n",
      "Parameters: [1.07061477]\n",
      "--------------------------\n",
      "Optimization Step 3 / 5\n",
      "Cost: 0.0554891459073546\n",
      "Parameters: [1.10463974]\n",
      "--------------------------\n",
      "Optimization Step 4 / 5\n",
      "Cost: -0.05179578982297689\n",
      "Parameters: [1.13766278]\n",
      "--------------------------\n",
      "Optimization Step 5 / 5\n",
      "Cost: -0.151952780085496\n",
      "Parameters: [1.16959683]\n",
      "--------------------------\n",
      "Optimization Complete\n"
     ]
    }
   ],
   "source": [
    "optimizer = qml.GradientDescentOptimizer()\n",
    "steps = 5\n",
    "params = np.array([1.])\n",
    "\n",
    "with Visualize(steps, cost_fn=cost) as viz:\n",
    "    for i in range(steps):\n",
    "        params = optimizer.step(cost, params)\n",
    "        viz.update(params=params)\n",
    "        viz.text(cost=True, params=True)"
   ]
  },
  {
   "cell_type": "code",
   "execution_count": 7,
   "metadata": {},
   "outputs": [
    {
     "name": "stdout",
     "output_type": "stream",
     "text": [
      "[0.29001330299410394, 0.16958978666464564, 0.0554891459073546, -0.05179578982297689, -0.151952780085496]\n"
     ]
    }
   ],
   "source": [
    "steps, cost = viz.cost_data\n",
    "print(cost)"
   ]
  },
  {
   "cell_type": "code",
   "execution_count": null,
   "metadata": {},
   "outputs": [],
   "source": []
  }
 ],
 "metadata": {
  "kernelspec": {
   "display_name": "Python 3",
   "language": "python",
   "name": "python3"
  },
  "language_info": {
   "codemirror_mode": {
    "name": "ipython",
    "version": 3
   },
   "file_extension": ".py",
   "mimetype": "text/x-python",
   "name": "python",
   "nbconvert_exporter": "python",
   "pygments_lexer": "ipython3",
   "version": "3.8.5"
  }
 },
 "nbformat": 4,
 "nbformat_minor": 4
}
