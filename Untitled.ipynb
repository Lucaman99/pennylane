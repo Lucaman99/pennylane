{
 "cells": [
  {
   "cell_type": "code",
   "execution_count": 8,
   "metadata": {},
   "outputs": [],
   "source": [
    "import pennylane as qml"
   ]
  },
  {
   "cell_type": "code",
   "execution_count": 3,
   "metadata": {},
   "outputs": [],
   "source": [
    "#H = qml.Hamiltonian([1], [qml.PauliZ(0) @ qml.PauliZ(1)])\n",
    "\n",
    "H = 2453 * qml.PauliZ(0) + qml.PauliX(1)\n",
    "\n",
    "with qml.tape.QuantumTape() as tape:    \n",
    "    #H = qml.Hamiltonian([1, 2, 1, 0.5], [qml.PauliZ(0) @ qml.PauliZ(1), qml.PauliX(1), qml.PauliZ(2), qml.PauliZ(2)])\n",
    "    #H = qml.Hamiltonian([2], [qml.PauliX(0)])\n",
    "    #H = 2 * qml.PauliX(0) + qml.PauliX(0) @ qml.PauliZ(2)\n",
    "    #H = qml.Hamiltonian([3, 2], [qml.PauliX(0), qml.PauliZ(0) @ qml.PauliZ(2)])\n",
    "    #H = 2 * qml.PauliX(0)\n",
    "    H = qml.Hamiltonian([1, 2, 1], [qml.PauliX(0), qml.PauliZ(0), qml.PauliX(0)], simplify=True)\n",
    "    qml.expval(H)\n",
    "    #qml.expval(qml.PauliZ(0) @ qml.PauliX(1) @ qml.PauliZ(2) @ qml.PauliX(3))"
   ]
  },
  {
   "cell_type": "code",
   "execution_count": 4,
   "metadata": {},
   "outputs": [
    {
     "name": "stdout",
     "output_type": "stream",
     "text": [
      "OrderedDict([(PauliX(wires=[0]), {'owner': <Hamiltonian: terms=2, wires=[0]>}), (PauliZ(wires=[0]), {'owner': <Hamiltonian: terms=2, wires=[0]>}), (PauliX(wires=[0]), {}), (<QuantumTape: wires=[], params=0>, {}), (<Hamiltonian: terms=2, wires=[0]>, {'owns': (PauliX(wires=[0]), PauliZ(wires=[0])), 'owner':   (2) [X0]\n",
      "+ (2) [Z0]}), (  (2) [X0]\n",
      "+ (2) [Z0], {'owns': <Hamiltonian: terms=2, wires=[0]>})])\n"
     ]
    }
   ],
   "source": [
    "print(tape._queue)"
   ]
  },
  {
   "cell_type": "code",
   "execution_count": 22,
   "metadata": {},
   "outputs": [
    {
     "name": "stdout",
     "output_type": "stream",
     "text": [
      "2.0\n"
     ]
    }
   ],
   "source": [
    "tapes, fn = qml.transforms.hamiltonian_expand(tape)\n",
    "\n",
    "dev = qml.device('default.qubit', wires=3)\n",
    "results = dev.batch_execute(tapes)\n",
    "\n",
    "output = fn(results)\n",
    "print(output)"
   ]
  },
  {
   "cell_type": "code",
   "execution_count": 11,
   "metadata": {},
   "outputs": [
    {
     "name": "stdout",
     "output_type": "stream",
     "text": [
      "False\n"
     ]
    }
   ],
   "source": [
    "dev = qml.device('default.qubit', wires=3)\n",
    "\n",
    "with qml.tape.QuantumTape() as tape:\n",
    "    qml.PauliX(wires=0)\n",
    "\n",
    "print([t._obs_data for t in tape.queue == [qml.PauliX(0)])"
   ]
  },
  {
   "cell_type": "code",
   "execution_count": 6,
   "metadata": {},
   "outputs": [
    {
     "ename": "NameError",
     "evalue": "name 'dev' is not defined",
     "output_type": "error",
     "traceback": [
      "\u001b[0;31m---------------------------------------------------------------------------\u001b[0m",
      "\u001b[0;31mNameError\u001b[0m                                 Traceback (most recent call last)",
      "\u001b[0;32m<ipython-input-6-086375d6ce9b>\u001b[0m in \u001b[0;36m<module>\u001b[0;34m\u001b[0m\n\u001b[0;32m----> 1\u001b[0;31m \u001b[0;34m@\u001b[0m\u001b[0mqml\u001b[0m\u001b[0;34m.\u001b[0m\u001b[0mqnode\u001b[0m\u001b[0;34m(\u001b[0m\u001b[0mdev\u001b[0m\u001b[0;34m)\u001b[0m\u001b[0;34m\u001b[0m\u001b[0;34m\u001b[0m\u001b[0m\n\u001b[0m\u001b[1;32m      2\u001b[0m \u001b[0;32mdef\u001b[0m \u001b[0mcircuit\u001b[0m\u001b[0;34m(\u001b[0m\u001b[0;34m)\u001b[0m\u001b[0;34m:\u001b[0m\u001b[0;34m\u001b[0m\u001b[0;34m\u001b[0m\u001b[0m\n\u001b[1;32m      3\u001b[0m     \u001b[0mqml\u001b[0m\u001b[0;34m.\u001b[0m\u001b[0mPauliX\u001b[0m\u001b[0;34m(\u001b[0m\u001b[0;36m0\u001b[0m\u001b[0;34m)\u001b[0m\u001b[0;34m\u001b[0m\u001b[0;34m\u001b[0m\u001b[0m\n",
      "\u001b[0;31mNameError\u001b[0m: name 'dev' is not defined"
     ]
    }
   ],
   "source": [
    "@qml.qnode(dev)\n",
    "def circuit():\n",
    "    qml.PauliX(0)"
   ]
  },
  {
   "cell_type": "code",
   "execution_count": null,
   "metadata": {},
   "outputs": [],
   "source": []
  }
 ],
 "metadata": {
  "kernelspec": {
   "display_name": "Python 3",
   "language": "python",
   "name": "python3"
  },
  "language_info": {
   "codemirror_mode": {
    "name": "ipython",
    "version": 3
   },
   "file_extension": ".py",
   "mimetype": "text/x-python",
   "name": "python",
   "nbconvert_exporter": "python",
   "pygments_lexer": "ipython3",
   "version": "3.8.7"
  }
 },
 "nbformat": 4,
 "nbformat_minor": 4
}
