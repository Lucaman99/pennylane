{
 "cells": [
  {
   "cell_type": "markdown",
   "metadata": {},
   "source": [
    "## Using the PennyLane QAOA Module"
   ]
  },
  {
   "cell_type": "code",
   "execution_count": 1,
   "metadata": {},
   "outputs": [],
   "source": [
    "import pennylane as qml\n",
    "from pennylane import qaoa\n",
    "import numpy as np\n",
    "from matplotlib import pyplot as plt\n",
    "import networkx as nx"
   ]
  },
  {
   "cell_type": "markdown",
   "metadata": {},
   "source": [
    "#### Introduction: Useful PennyLane Functionality\n",
    "\n",
    "The goal of the PennyLane library is to provide users with a wide range of easy-to-use, general functions"
   ]
  },
  {
   "cell_type": "markdown",
   "metadata": {},
   "source": [
    "**1. Adding, Subtracting, and Multiplying Observables**\n",
    "\n",
    "At a fundamental level, a quantum circuit is simply a state vector, multiplied by a series of quantum operations, followed by measurement with respect to some observable quantity. Oftentimes, these observable quantities that we wish to measure are simply one-qubit operations, like the Pauli-$Z$ and Pauli-$X$. In other cases, especially in variational algorithms like VQE and QAOA, we have to measure the expectation value of much more complicated observables called **Hamiltonians**. These Hamiltonians are often times linear combinations of many tensor products of one-qubit operations. For example, this is the Hamiltonian of which we calculate the expectation value when performing VQE for the $H2$ molecule:\n",
    "\n",
    "<center>\n",
    "    <figure>\n",
    "    <img src=\"assets/hamiltonian.png\" style=\"height:125px;\">\n",
    "    </figure>\n",
    "</center>\n",
    "\n",
    "Since Hamiltonians are often very complicated, we introduce PennyLane functionality that allows the use of arithmetic operations between observables, tensor products of observables, and ``pennylane.Hamiltonian`` objects (linear combinations of observables/tensors of observables). For example, if we wish to define the following Hamiltonian:\n",
    "\n",
    "$$H \\ = \\ 3 Z_{0} Z_{1} \\ + \\ 0.2 Z_{0} \\ + \\ 4 X_{2} \\ + \\ 1.2 Y_{0} X_{2}$$\n",
    "\n",
    "this can easily be done using PennyLane:"
   ]
  },
  {
   "cell_type": "code",
   "execution_count": 2,
   "metadata": {},
   "outputs": [
    {
     "name": "stdout",
     "output_type": "stream",
     "text": [
      "(3) [Z0 Z1]\n",
      "+ (0.2) [Z0]\n",
      "+ (4) [X2]\n",
      "+ (1.2) [Y0 X2]\n"
     ]
    }
   ],
   "source": [
    "H = 3 * (qml.PauliZ(0) @ qml.PauliZ(1)) + 0.2 * qml.PauliZ(0) + 4 * qml.PauliX(2) + 1.2 * (qml.PauliY(0) @ qml.PauliX(2))\n",
    "print(H)"
   ]
  },
  {
   "cell_type": "markdown",
   "metadata": {},
   "source": [
    "We can also use arithmetic operations between Hamiltonians, and other combinations of observables:"
   ]
  },
  {
   "cell_type": "code",
   "execution_count": 4,
   "metadata": {},
   "outputs": [
    {
     "name": "stdout",
     "output_type": "stream",
     "text": [
      "(1) [X0]\n",
      "+ (2) [X1]\n",
      "+ (1) [X2]\n",
      "+ (-3) [Z0 Z1]\n"
     ]
    }
   ],
   "source": [
    "H1 = qml.Hamiltonian([1, 1], [qml.PauliX(0), qml.PauliX(1)])\n",
    "H2 = qml.Hamiltonian([1, 1], [qml.PauliX(1), qml.PauliX(2)])\n",
    "term = 3 * qml.PauliZ(0) @ qml.PauliZ(1)\n",
    "\n",
    "H = H1 + H2 - term\n",
    "print(H)"
   ]
  },
  {
   "cell_type": "markdown",
   "metadata": {},
   "source": [
    "This feature will prove to be useful in a variety of situations, including when defining cost and mixer Hamiltonians to use in QAOA."
   ]
  },
  {
   "cell_type": "markdown",
   "metadata": {},
   "source": [
    "**2. Defining circuits in terms of Hamiltonians.**\n",
    "\n",
    "Oftentimes, when considering thinking of quantum circuits or variational ansatzae, it is convenient to consider these processes as defined by a series of quantum gates. However, as it turns out, there are many instances where it is useful to think of a quantum circuit in terms of a *Hamiltonian*. For instance, in quantum mechanics, a unitary transformation of great interest is that of time-evolution:\n",
    "\n",
    "$$U \\ = \\ e^{-i \\hat{H} t / \\hbar}$$"
   ]
  },
  {
   "cell_type": "markdown",
   "metadata": {},
   "source": [
    "This unitary is clearly defined completely in terms of a Hamiltonian, $\\hat{H}$ and a scalar $t$. Mimicing the general form of the time-evolution unitary, as it is the most general example of a unitary determined by a Hamiltonian, we define a time-evolution template in PennyLane, more specifically, an *approximate* time-evolution template, which implements a unitary of the form:\n",
    "\n",
    "$$U(\\hat{H}, t, n) \\ = \\ \\displaystyle\\prod_{j \\ = \\ 1}^{n} \\displaystyle\\prod_{k} e^{-i \\hat{H}_k t}$$\n",
    "\n",
    "where:\n",
    "\n",
    "$$\\hat{H} \\ = \\ \\displaystyle\\sum_{k} \\hat{H}_k$$"
   ]
  },
  {
   "cell_type": "markdown",
   "metadata": {},
   "source": [
    "**3. Repeating/layering quantum circuits.**\n",
    "\n",
    "Another fundamental idea within quantum computation is repetedly applictions of quantum gates. This can be seen everywhere, from amplitude amplification in Grover's algorithm and HHL, to layers in quantum neural networks, to Trotterization in quantum simulation. \n",
    "\n",
    "<center>\n",
    "    <figure>\n",
    "    <img src=\"assets/repeat.png\" style=\"height:400px;\">\n",
    "    </figure>\n",
    "</center>\n",
    "\n",
    "We therefore define the ``qml.layer`` method in PennyLane to alternate an arbitrary unitary. This general method allows us to take a function containing quantum operations, a template, or even a single quantum gate and repeatedly apply it. For example, consider the following complicated\n",
    "\n",
    "<center>\n",
    "    <figure>\n",
    "        <img src=\"assets/qml_layer.png\" style=\"height:200px;margin-left:-100px;\">\n",
    "    </figure>\n",
    "</center>"
   ]
  },
  {
   "cell_type": "markdown",
   "metadata": {},
   "source": [
    "### The Quantum Approximate Optimization Algorithm"
   ]
  },
  {
   "cell_type": "markdown",
   "metadata": {},
   "source": [
    "The QAOA is a variational quantum algorithm, meaning that it uses a parametrized ansatz to prepare a state, with a classical optimizer minimizing the expected value of some cost Hamiltonian with respect to the prepared state. Consider the general form of the QAOA ansatz:\n",
    "\n",
    "$$U_{\\text{QAOA}}(\\boldsymbol\\gamma, \\ \\boldsymbol\\alpha) \\ = \\ e^{-i \\alpha_k H_M} e^{-i \\gamma_k H_C} \\ ... \\ e^{-i \\alpha_1 H_M} e^{-i \\gamma_1 H_C}$$"
   ]
  },
  {
   "cell_type": "markdown",
   "metadata": {},
   "source": [
    "This ansatz combines the two general principles that we discussed earlier: circuits determined by Hamiltonians and repetition. Therefore, many of the methods we introduce in this next section will simply be specific instances of the more general functions outlined previously."
   ]
  },
  {
   "cell_type": "markdown",
   "metadata": {},
   "source": [
    "### Finding a Minimum Vertex Cover with QAOA"
   ]
  },
  {
   "cell_type": "markdown",
   "metadata": {},
   "source": [
    "We can now demonstrate the power of the PennyLane QAOA functionality by using it to solve a problem: finding the minimum vertex cover of a graph.\n",
    "    \n",
    "A vertex cover is defined as a collection of vertices within a graph, such that each edge in the graph has at least one of the vertices in the cover as an endpoint. We wish to find the vertex cover that consists of the fewest possible vertices of the graph.\n",
    "\n",
    "<center>\n",
    "    <figure>\n",
    "    <img src=\"assets/minvc.png\" style=\"height:250px;\">\n",
    "        <figcaption>The minimum vertex cover of a simple graph</figcaption>\n",
    "    </figure>\n",
    "</center>"
   ]
  },
  {
   "cell_type": "markdown",
   "metadata": {},
   "source": [
    "We begin by defining a graph, of which we want to determine the minimum vertex cover. We choose the following, $4$-node graph:"
   ]
  },
  {
   "cell_type": "code",
   "execution_count": 50,
   "metadata": {},
   "outputs": [
    {
     "data": {
      "image/png": "[encoded data removed]",
      "text/plain": [
       "<Figure size 640x480 with 1 Axes>"
      ]
     },
     "metadata": {},
     "output_type": "display_data"
    }
   ],
   "source": [
    "# Defines the graph\n",
    "edges = [(0, 1), (1, 2), (2, 0), (2, 3)]\n",
    "graph = nx.Graph(edges)\n",
    "\n",
    "# Draws the graph\n",
    "nx.draw(graph)\n",
    "plt.show()"
   ]
  },
  {
   "cell_type": "markdown",
   "metadata": {},
   "source": [
    "With the graph defined, we now create the cost and mixer Hamiltonians we will use to perform QAOA:"
   ]
  },
  {
   "cell_type": "code",
   "execution_count": 9,
   "metadata": {},
   "outputs": [],
   "source": [
    "# Creates the cost and mixer Hamiltonians\n",
    "cost_h, mixer_h = qaoa.min_vertex_cover(graph)"
   ]
  },
  {
   "cell_type": "markdown",
   "metadata": {},
   "source": [
    "This then allows us to create a layer of the QAOA circuit:\n",
    "\n",
    "<center>\n",
    "    <img src=\"assets/layer.png\" style=\"height:200px;\">\n",
    "</center>"
   ]
  },
  {
   "cell_type": "code",
   "execution_count": 10,
   "metadata": {},
   "outputs": [],
   "source": [
    "# Creates a layer of the QAOA ansatz\n",
    "def qaoa_layer(gamma, alpha):\n",
    "    qaoa.cost_layer(gamma, cost_h)\n",
    "    qaoa.mixer_layer(alpha, mixer_h)"
   ]
  },
  {
   "cell_type": "markdown",
   "metadata": {},
   "source": [
    "We can then create the full QAOA ansatz by initializing our wires, and repeatedly applying the QAOA layer:"
   ]
  },
  {
   "cell_type": "code",
   "execution_count": 23,
   "metadata": {},
   "outputs": [],
   "source": [
    "# Defines the wires\n",
    "wires = graph.nodes\n",
    "\n",
    "# Defines the device\n",
    "dev = qml.device('qulacs.simulator', wires=len(wires))\n",
    "\n",
    "# Defines the full QAOA circuit\n",
    "def circuit(params, **kwargs):\n",
    "    \n",
    "    for w in wires:\n",
    "        qml.PauliX(wires=w)\n",
    "    \n",
    "    qml.layer(qaoa_layer, 2, params[0], params[1])"
   ]
  },
  {
   "cell_type": "code",
   "execution_count": 24,
   "metadata": {},
   "outputs": [],
   "source": [
    "# Defines the QAOA cost function\n",
    "cost_function = qml.VQECost(circuit, cost_h, dev)"
   ]
  },
  {
   "cell_type": "code",
   "execution_count": 25,
   "metadata": {},
   "outputs": [
    {
     "name": "stdout",
     "output_type": "stream",
     "text": [
      "Step 1 / 40\n",
      "Step 2 / 40\n",
      "Step 3 / 40\n",
      "Step 4 / 40\n",
      "Step 5 / 40\n",
      "Step 6 / 40\n",
      "Step 7 / 40\n",
      "Step 8 / 40\n",
      "Step 9 / 40\n",
      "Step 10 / 40\n",
      "Step 11 / 40\n",
      "Step 12 / 40\n",
      "Step 13 / 40\n",
      "Step 14 / 40\n",
      "Step 15 / 40\n",
      "Step 16 / 40\n",
      "Step 17 / 40\n",
      "Step 18 / 40\n",
      "Step 19 / 40\n",
      "Step 20 / 40\n",
      "Step 21 / 40\n",
      "Step 22 / 40\n",
      "Step 23 / 40\n",
      "Step 24 / 40\n",
      "Step 25 / 40\n",
      "Step 26 / 40\n",
      "Step 27 / 40\n",
      "Step 28 / 40\n",
      "Step 29 / 40\n",
      "Step 30 / 40\n",
      "Step 31 / 40\n",
      "Step 32 / 40\n",
      "Step 33 / 40\n",
      "Step 34 / 40\n",
      "Step 35 / 40\n",
      "Step 36 / 40\n",
      "Step 37 / 40\n",
      "Step 38 / 40\n",
      "Step 39 / 40\n",
      "Step 40 / 40\n",
      "Optimal Parameters: [[0.33, 0.14823440665554805], [-0.4563183472249533, -0.3303971521973008]]\n"
     ]
    }
   ],
   "source": [
    "# Defines the optimization procedure\n",
    "\n",
    "optimizer = qml.GradientDescentOptimizer()\n",
    "steps = 40\n",
    "params = [\n",
    "    [np.random.randint(-100, 100)/100 for i in range(2)],\n",
    "    [np.random.randint(-100, 100)/100 for i in range(2)]\n",
    "]\n",
    "\n",
    "for i in range(steps):\n",
    "    params = optimizer.step(cost_function, params)\n",
    "    print(\"Step {} / {}\".format(i+1, steps))\n",
    "\n",
    "print(\"Optimal Parameters: {}\".format(params))"
   ]
  },
  {
   "cell_type": "markdown",
   "metadata": {},
   "source": [
    "With the optimal parameters, we can now reconstruct the probability landscape:"
   ]
  },
  {
   "cell_type": "code",
   "execution_count": 40,
   "metadata": {},
   "outputs": [],
   "source": [
    "@qml.qnode(dev)\n",
    "def probability_circuit(gamma, alpha):\n",
    "    circuit([gamma, alpha])\n",
    "    return qml.probs(wires=wires)\n",
    "\n",
    "probs = probability_circuit(params[0], params[1])"
   ]
  },
  {
   "cell_type": "markdown",
   "metadata": {},
   "source": [
    "Finally, we can display a bar graph demonstrating the probability of measuring each bitstring:"
   ]
  },
  {
   "cell_type": "code",
   "execution_count": 63,
   "metadata": {},
   "outputs": [
    {
     "data": {
      "image/png": "[encoded data removed]",
      "text/plain": [
       "<Figure size 800x550 with 1 Axes>"
      ]
     },
     "metadata": {},
     "output_type": "display_data"
    }
   ],
   "source": [
    "plt.style.use('seaborn')\n",
    "plt.bar(range(2**len(wires)), probs)\n",
    "plt.show()"
   ]
  },
  {
   "cell_type": "markdown",
   "metadata": {},
   "source": [
    "As can be seen from this graph, the state $|10\\rangle \\ = \\ |1010\\rangle$ has the highest probability of being measured, followed by $|6\\rangle \\ = \\ |0110\\rangle$. Both of these bitstrings represent the minimum vertex covers of our graph:"
   ]
  },
  {
   "cell_type": "code",
   "execution_count": 64,
   "metadata": {},
   "outputs": [
    {
     "data": {
      "image/png": "[encoded data removed]",
      "text/plain": [
       "<Figure size 900x400 with 2 Axes>"
      ]
     },
     "metadata": {},
     "output_type": "display_data"
    }
   ],
   "source": [
    "pos = nx.spring_layout(graph)\n",
    "\n",
    "plt.figure(figsize=(9, 4))\n",
    "plt.subplot(121)\n",
    "nx.draw(graph, pos, node_color=['r', 'b', 'r', 'b'])\n",
    "plt.subplot(122)\n",
    "nx.draw(graph, pos, node_color=['b', 'r', 'r', 'b'])\n",
    "plt.show()"
   ]
  },
  {
   "cell_type": "code",
   "execution_count": null,
   "metadata": {},
   "outputs": [],
   "source": []
  }
 ],
 "metadata": {
  "kernelspec": {
   "display_name": "Python 3",
   "language": "python",
   "name": "python3"
  },
  "language_info": {
   "codemirror_mode": {
    "name": "ipython",
    "version": 3
   },
   "file_extension": ".py",
   "mimetype": "text/x-python",
   "name": "python",
   "nbconvert_exporter": "python",
   "pygments_lexer": "ipython3",
   "version": "3.8.5"
  }
 },
 "nbformat": 4,
 "nbformat_minor": 4
}
