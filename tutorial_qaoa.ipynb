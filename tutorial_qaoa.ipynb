{
 "cells": [
  {
   "cell_type": "markdown",
   "metadata": {},
   "source": [
    "## The PennyLane QAOA Module"
   ]
  },
  {
   "cell_type": "code",
   "execution_count": 2,
   "metadata": {},
   "outputs": [],
   "source": [
    "import pennylane as qml\n",
    "from pennylane import qaoa\n",
    "import numpy as np\n",
    "from matplotlib import pyplot as plt\n",
    "import networkx as nx"
   ]
  },
  {
   "cell_type": "markdown",
   "metadata": {},
   "source": [
    "One of the most promising candidates for demonstrating quantum supremacy on NISQ devices is using the Quantum Approximate Optimization Algorithm (QAOA) to solve a combinatorial problem. The applications of QAOA are broad and far-reaching, and the performance of the algorithm itself is of great interest in the quantum computing research community.\n",
    "\n",
    "The goal of this tutorial is to introduce PennyLane's built-in QAOA functionality, and in the process, highlight some of the abstract, yet powerful features that allow for the QAOA module to be intuitive and modular. "
   ]
  },
  {
   "cell_type": "markdown",
   "metadata": {},
   "source": [
    "### Defining Cost and Mixer Hamiltonians\n",
    "\n",
    "The first step of QAOA is to define cost and mixer Hamiltonians. The optimization problem we attempt to solve is finding the *minimum vertex cover* of a graph (we refer to this problem as MinVertexCover). A vertex cover is defined as a collection of vertices within a graph, such that each edge in the graph has at least one of the vertices in the cover as an endpoint. We wish to find the vertex cover that consists of the fewest possible vertices of the graph."
   ]
  },
  {
   "cell_type": "markdown",
   "metadata": {},
   "source": [
    "PIC"
   ]
  },
  {
   "cell_type": "markdown",
   "metadata": {},
   "source": [
    "The PennyLane QAOA module has a collection of built-in optimization problems, one of which is MinVertexCover. Each optimization problem is a pair of Hamiltonians, the first of which is the corresponding cost Hamiltonian, and the second of which is a reccomended mixer Hamiltonian that is known to work well. We first define the graph on which we wish to perform MinVertexCover:"
   ]
  },
  {
   "cell_type": "code",
   "execution_count": 3,
   "metadata": {},
   "outputs": [
    {
     "data": {
      "image/png": "[encoded data removed]",
      "text/plain": [
       "<Figure size 432x288 with 1 Axes>"
      ]
     },
     "metadata": {},
     "output_type": "display_data"
    }
   ],
   "source": [
    "# Defines the graph\n",
    "edges = [(0, 1), (2, 0), (1, 2), (2, 3)]\n",
    "graph = nx.Graph(edges)\n",
    "\n",
    "# Draws the graph\n",
    "nx.draw(graph)\n",
    "plt.show()"
   ]
  },
  {
   "cell_type": "markdown",
   "metadata": {},
   "source": [
    "Then, we define the cost and mixer Hamiltonians:"
   ]
  },
  {
   "cell_type": "code",
   "execution_count": 8,
   "metadata": {},
   "outputs": [
    {
     "name": "stdout",
     "output_type": "stream",
     "text": [
      "Cost Hamiltonian\n",
      "(-1) [Z0]\n",
      "+ (-1) [Z1]\n",
      "+ (-1) [Z2]\n",
      "+ (-1) [Z3]\n",
      "--------------------\n",
      "Mixer Hamiltonian\n",
      "(0.25) [X0]\n",
      "+ (-0.25) [X0 Z2]\n",
      "+ (-0.25) [X0 Z1]\n",
      "+ (0.25) [X0 Z1 Z2]\n",
      "+ (0.25) [X1]\n",
      "+ (-0.25) [X1 Z2]\n",
      "+ (-0.25) [X1 Z0]\n",
      "+ (0.25) [X1 Z0 Z2]\n",
      "+ (0.125) [X2]\n",
      "+ (-0.125) [X2 Z3]\n",
      "+ (-0.125) [X2 Z1]\n",
      "+ (0.125) [X2 Z1 Z3]\n",
      "+ (-0.125) [X2 Z0]\n",
      "+ (0.125) [X2 Z0 Z3]\n",
      "+ (0.125) [X2 Z0 Z1]\n",
      "+ (-0.125) [X2 Z0 Z1 Z3]\n",
      "+ (0.5) [X3]\n",
      "+ (-0.5) [X3 Z2]\n"
     ]
    }
   ],
   "source": [
    "cost_h, mixer_h = qaoa.min_vertex_cover(graph, constrained=True)\n",
    "\n",
    "print(\"Cost Hamiltonian\")\n",
    "print(cost_h)\n",
    "print(\"--------------------\")\n",
    "print(\"Mixer Hamiltonian\")\n",
    "print(mixer_h)"
   ]
  },
  {
   "cell_type": "markdown",
   "metadata": {},
   "source": [
    "### Constructing the QAOA Layers"
   ]
  },
  {
   "cell_type": "markdown",
   "metadata": {},
   "source": [
    "Oftentimes, when considering quantum circuits or variational ansatzae, it is convenient to consider these processes as defined by a series of quantum gates. However, as it turns out, there are many instances where it is useful to think of a quantum circuit in terms of a *Hamiltonian*.\n",
    "\n",
    "PIC\n",
    "\n",
    "One of the most basic and important examples of such a circuit comes from quantum mechanics: the time-evolution operator. This unitary is defined as:\n",
    "\n",
    "$$U(\\hat{H}, \\ t) \\ = \\ e^{-i \\hat{H} t / \\hbar}$$"
   ]
  },
  {
   "cell_type": "markdown",
   "metadata": {},
   "source": [
    "This unitary is determined completely in terms of a Hamiltonian, $\\hat{H}$ and a scalar $t$. As it turns out, any unitary $U$ can be written in the form $e^{i H}$, where $H$ is some Hamiltonian, making time-evolution the most fundamental and important example of a circuit determined by a Hamiltonian. However, in general, implementing a quantum circuit that exponentiates a Hamiltonian with many non-commuting terms:\n",
    "\n",
    "$$H \\ = \\ H_1 \\ + \\ H_2 \\ + \\ H_3 \\ + \\ \\cdots \\ + \\ H_N$$\n",
    "\n",
    "is not an easy task, and involves very long strings of quantum gates. However, we are able to make use of the Trotter-Suzuki decomposition formula:\n",
    "\n",
    "$$e^{A \\ + \\ B} \\ \\approx \\ \\Big(e^{A/n} e^{B/n}\\Big)^{n} \\ \\ \\ \\ \\ n \\ \\gg \\ 1$$\n",
    "\n",
    "To implement an *approximate* time-evolution unitary:\n",
    "\n",
    "$$U_{\\text{Approx}}(\\hat{H}, t, n) \\ = \\ \\displaystyle\\prod_{j \\ = \\ 1}^{n} \\displaystyle\\prod_{k} e^{-i \\hat{H}_k t / n} \\ \\ \\ \\ \\ \\ \\ \\ \\ \\ \\hat{H} \\ = \\ \\displaystyle\\sum_{k} \\hat{H}_k$$\n",
    "\n",
    "where $U_{\\text{Approx}}$ approaches $U$ as $n$ becomes larger. We can call this unitary with `qml.templates.ApproxTimeEvolution`. Since QAOA is essentially just time-evolution under the Hamiltonians $H_C$ and $H_M$, we can use `qml.template.ApproxTimeEvolution` to define methods `qaoa.cost_layer` and `qaoa.mixer_layer` that exponentiate cost and mixer Hamiltonians for use in QAOA:"
   ]
  },
  {
   "cell_type": "code",
   "execution_count": 9,
   "metadata": {},
   "outputs": [],
   "source": [
    "# Creates a layer of the QAOA ansatz\n",
    "def qaoa_layer(gamma, alpha):\n",
    "    qaoa.cost_layer(gamma, cost_h)\n",
    "    qaoa.mixer_layer(alpha, mixer_h)"
   ]
  },
  {
   "cell_type": "markdown",
   "metadata": {},
   "source": [
    "PIC"
   ]
  },
  {
   "cell_type": "markdown",
   "metadata": {},
   "source": [
    "### The QAOA Ansatz"
   ]
  },
  {
   "cell_type": "markdown",
   "metadata": {},
   "source": [
    "With the general QAOA layer defined, we are able to build the variational ansatz. The QAOA ansatz is defined as *alternating* applications of the cost and mixer layers:\n",
    "\n",
    "$$U_{\\text{QAOA}}(\\boldsymbol\\gamma, \\ \\boldsymbol\\alpha) \\ = \\ e^{-i \\alpha_k H_M} e^{-i \\gamma_k H_C} \\ ... \\ e^{-i \\alpha_1 H_M} e^{-i \\gamma_1 H_C}$$\n",
    "\n",
    "In other words, we are repetedly applying the ``qaoa_layer`` to a set of wires. The idea of repetition is ubiquitous within quantum computing, from amplitude amplification in Grover's algorithm and HHL, to layers in quantum neural networks, to Trotterization in quantum simulation."
   ]
  },
  {
   "cell_type": "markdown",
   "metadata": {},
   "source": [
    "PIC"
   ]
  },
  {
   "cell_type": "markdown",
   "metadata": {},
   "source": [
    "Due to this fact, we introduce the ``qml.layer`` function in PennyLane. This general method allows us to take a function containing quantum operations, a template, or even a single quantum gate and repeatedly apply it to a set of wires."
   ]
  },
  {
   "cell_type": "markdown",
   "metadata": {},
   "source": [
    "PIC"
   ]
  },
  {
   "cell_type": "markdown",
   "metadata": {},
   "source": [
    "In the case of QAOA, this allows us to easily define the ansatz. We begin. with an even superposition over all basis states. Then, we layer ``qaoa_layer``:"
   ]
  },
  {
   "cell_type": "code",
   "execution_count": 10,
   "metadata": {},
   "outputs": [],
   "source": [
    "# Defines the wires\n",
    "wires = graph.nodes\n",
    "\n",
    "depth = 2\n",
    "\n",
    "# Defines the full QAOA circuit\n",
    "def circuit(params, **kwargs):\n",
    "    \n",
    "    for w in wires:\n",
    "        qml.PauliX(wires=w)\n",
    "    \n",
    "    qml.layer(qaoa_layer, depth, params[0], params[1])"
   ]
  },
  {
   "cell_type": "markdown",
   "metadata": {},
   "source": [
    "Notice that ``qml.layer`` allows us to pass variational parameters ``params[0]`` and ``params[1]`` into each layer of ``qaoa_layer``."
   ]
  },
  {
   "cell_type": "markdown",
   "metadata": {},
   "source": [
    "### Optimizing the Cost Function"
   ]
  },
  {
   "cell_type": "markdown",
   "metadata": {},
   "source": [
    "Now that we have defined the full QAOA ansatz, we must define and optimize the cost function. As is the case with most variational quantum algorithms, the cost function we wish to minimize is simply the expectation value of $H_C$, with respect to the state prepared by the ansatz. We can therefore use ``qml.VQECost`` to define this cost function easily. We also define the device on which simulation is performed. In this example, we will use the PennyLane-Qulacs plugin to run the simulation on the Qulacs simulator:"
   ]
  },
  {
   "cell_type": "code",
   "execution_count": 11,
   "metadata": {},
   "outputs": [],
   "source": [
    "# Defines the device\n",
    "dev = qml.device('qulacs.simulator', wires=wires)\n",
    "\n",
    "# Defines the cost function\n",
    "cost_function = qml.VQECost(circuit, cost_h, dev)"
   ]
  },
  {
   "cell_type": "markdown",
   "metadata": {},
   "source": [
    "Finally, we optimize the cost function using the built-in ``qml.GradientDescentOptimizer``:"
   ]
  },
  {
   "cell_type": "code",
   "execution_count": 12,
   "metadata": {},
   "outputs": [
    {
     "name": "stdout",
     "output_type": "stream",
     "text": [
      "Step 1 / 40\n",
      "Step 2 / 40\n",
      "Step 3 / 40\n",
      "Step 4 / 40\n",
      "Step 5 / 40\n",
      "Step 6 / 40\n",
      "Step 7 / 40\n",
      "Step 8 / 40\n",
      "Step 9 / 40\n",
      "Step 10 / 40\n",
      "Step 11 / 40\n",
      "Step 12 / 40\n",
      "Step 13 / 40\n",
      "Step 14 / 40\n",
      "Step 15 / 40\n",
      "Step 16 / 40\n",
      "Step 17 / 40\n",
      "Step 18 / 40\n",
      "Step 19 / 40\n",
      "Step 20 / 40\n",
      "Step 21 / 40\n",
      "Step 22 / 40\n",
      "Step 23 / 40\n",
      "Step 24 / 40\n",
      "Step 25 / 40\n",
      "Step 26 / 40\n",
      "Step 27 / 40\n",
      "Step 28 / 40\n",
      "Step 29 / 40\n",
      "Step 30 / 40\n",
      "Step 31 / 40\n",
      "Step 32 / 40\n",
      "Step 33 / 40\n",
      "Step 34 / 40\n",
      "Step 35 / 40\n",
      "Step 36 / 40\n",
      "Step 37 / 40\n",
      "Step 38 / 40\n",
      "Step 39 / 40\n",
      "Step 40 / 40\n",
      "Optimal Parameters: [[0.8599999999999999, -0.3449122565424062], [0.10636982351706038, 1.2816354942132282]]\n"
     ]
    }
   ],
   "source": [
    "# Defines the optimizer, steps, and initial parameters\n",
    "optimizer = qml.GradientDescentOptimizer()\n",
    "steps = 40\n",
    "params = [\n",
    "    [np.random.randint(-100, 100)/100 for i in range(depth)],\n",
    "    [np.random.randint(-100, 100)/100 for i in range(depth)]\n",
    "]\n",
    "\n",
    "# Optimizes the cost function\n",
    "for i in range(steps):\n",
    "    params = optimizer.step(cost_function, params)\n",
    "    print(\"Step {} / {}\".format(i+1, steps))\n",
    "\n",
    "# Prints the optimal parameters\n",
    "print(\"Optimal Parameters: {}\".format(params))"
   ]
  },
  {
   "cell_type": "markdown",
   "metadata": {},
   "source": [
    "With the optimal parameters, we can now reconstruct the probability landscape, to make sure that the simulation worked. We re-define the full QAOA circuit (with the optimal parameters), but this time, we return the probabilities of measuring each bitstring:"
   ]
  },
  {
   "cell_type": "code",
   "execution_count": 13,
   "metadata": {},
   "outputs": [],
   "source": [
    "@qml.qnode(dev)\n",
    "def probability_circuit(gamma, alpha):\n",
    "    circuit([gamma, alpha])\n",
    "    return qml.probs(wires=wires)\n",
    "\n",
    "probs = probability_circuit(params[0], params[1])"
   ]
  },
  {
   "cell_type": "markdown",
   "metadata": {},
   "source": [
    "Finally, we can display a bar graph demonstrating the probability of measuring each bitstring:"
   ]
  },
  {
   "cell_type": "code",
   "execution_count": 14,
   "metadata": {},
   "outputs": [
    {
     "data": {
      "image/png": "[encoded data removed]",
      "text/plain": [
       "<Figure size 576x396 with 1 Axes>"
      ]
     },
     "metadata": {},
     "output_type": "display_data"
    }
   ],
   "source": [
    "plt.style.use('seaborn')\n",
    "plt.bar(range(2**len(wires)), probs)\n",
    "plt.show()"
   ]
  },
  {
   "cell_type": "markdown",
   "metadata": {},
   "source": [
    "As can be seen from this graph, the states $|10\\rangle \\ = \\ |1010\\rangle$ and $|6\\rangle \\ = \\ |0110\\rangle$ have the highest probabilities of being measured. Both of these bitstrings represent the minimum vertex covers of our graph:"
   ]
  },
  {
   "cell_type": "code",
   "execution_count": 15,
   "metadata": {
    "scrolled": true
   },
   "outputs": [
    {
     "data": {
      "image/png": "[encoded data removed]",
      "text/plain": [
       "<Figure size 648x288 with 2 Axes>"
      ]
     },
     "metadata": {},
     "output_type": "display_data"
    }
   ],
   "source": [
    "pos = nx.spring_layout(graph)\n",
    "\n",
    "plt.figure(figsize=(9, 4))\n",
    "plt.subplot(121)\n",
    "nx.draw(graph, pos, node_color=['r', 'b', 'r', 'b'])\n",
    "plt.subplot(122)\n",
    "nx.draw(graph, pos, node_color=['b', 'r', 'r', 'b'])\n",
    "plt.show()"
   ]
  },
  {
   "cell_type": "code",
   "execution_count": 19,
   "metadata": {},
   "outputs": [
    {
     "name": "stdout",
     "output_type": "stream",
     "text": [
      "(1.25) [Z0 Z1]\n",
      "+ (1.25) [Z0]\n",
      "+ (1.5) [Z1]\n",
      "+ (1.25) [Z0 Z2]\n",
      "+ (2.75) [Z2]\n",
      "+ (1.25) [Z1 Z2]\n",
      "+ (1.25) [Z2 Z3]\n",
      "+ (-0.25) [Z0 Z3]\n"
     ]
    }
   ],
   "source": [
    "# We then have to reward the edge 00 between nodes 0 and 4\n",
    "\n",
    "new_cost_h = cost_h + qaoa.edge_driver(nx.Graph([(0, 3)]), ['00'])\n",
    "print(new_cost_h)"
   ]
  },
  {
   "cell_type": "code",
   "execution_count": 20,
   "metadata": {},
   "outputs": [
    {
     "name": "stdout",
     "output_type": "stream",
     "text": [
      "Step 1 / 40\n",
      "Step 2 / 40\n",
      "Step 3 / 40\n",
      "Step 4 / 40\n",
      "Step 5 / 40\n",
      "Step 6 / 40\n",
      "Step 7 / 40\n",
      "Step 8 / 40\n",
      "Step 9 / 40\n",
      "Step 10 / 40\n",
      "Step 11 / 40\n",
      "Step 12 / 40\n",
      "Step 13 / 40\n",
      "Step 14 / 40\n",
      "Step 15 / 40\n",
      "Step 16 / 40\n",
      "Step 17 / 40\n",
      "Step 18 / 40\n",
      "Step 19 / 40\n",
      "Step 20 / 40\n",
      "Step 21 / 40\n",
      "Step 22 / 40\n",
      "Step 23 / 40\n",
      "Step 24 / 40\n",
      "Step 25 / 40\n",
      "Step 26 / 40\n",
      "Step 27 / 40\n",
      "Step 28 / 40\n",
      "Step 29 / 40\n",
      "Step 30 / 40\n",
      "Step 31 / 40\n",
      "Step 32 / 40\n",
      "Step 33 / 40\n",
      "Step 34 / 40\n",
      "Step 35 / 40\n",
      "Step 36 / 40\n",
      "Step 37 / 40\n",
      "Step 38 / 40\n",
      "Step 39 / 40\n",
      "Step 40 / 40\n",
      "Optimal Parameters: [[0.19999999999999998, 0.001085076222376237], [-1.100117692789273, 0.6364828283190025]]\n"
     ]
    }
   ],
   "source": [
    "# Creates a layer of the QAOA ansatz\n",
    "def new_qaoa_layer(gamma, alpha):\n",
    "    qaoa.cost_layer(gamma, new_cost_h)\n",
    "    qaoa.mixer_layer(alpha, mixer_h)\n",
    "\n",
    "# Creates the new circuit\n",
    "def circuit(params, **kwargs):\n",
    "    \n",
    "    for w in wires:\n",
    "        qml.PauliX(wires=w)\n",
    "    \n",
    "    qml.layer(new_qaoa_layer, depth, params[0], params[1])\n",
    "\n",
    "# Optimizes the circuit\n",
    "\n",
    "cost_function = qml.VQECost(circuit, cost_h, dev)\n",
    "\n",
    "# Defines the optimizer, steps, and initial parameters\n",
    "optimizer = qml.GradientDescentOptimizer()\n",
    "steps = 40\n",
    "params = [\n",
    "    [np.random.randint(-100, 100)/100 for i in range(depth)],\n",
    "    [np.random.randint(-100, 100)/100 for i in range(depth)]\n",
    "]\n",
    "\n",
    "# Optimizes the cost function\n",
    "for i in range(steps):\n",
    "    params = optimizer.step(cost_function, params)\n",
    "    print(\"Step {} / {}\".format(i+1, steps))\n",
    "\n",
    "# Prints the optimal parameters\n",
    "print(\"Optimal Parameters: {}\".format(params))"
   ]
  },
  {
   "cell_type": "code",
   "execution_count": 21,
   "metadata": {},
   "outputs": [
    {
     "data": {
      "image/png": "[encoded data removed]",
      "text/plain": [
       "<Figure size 576x396 with 1 Axes>"
      ]
     },
     "metadata": {},
     "output_type": "display_data"
    }
   ],
   "source": [
    "@qml.qnode(dev)\n",
    "def probability_circuit(gamma, alpha):\n",
    "    circuit([gamma, alpha])\n",
    "    return qml.probs(wires=wires)\n",
    "\n",
    "probs = probability_circuit(params[0], params[1])\n",
    "\n",
    "plt.style.use('seaborn')\n",
    "plt.bar(range(2**len(wires)), probs)\n",
    "plt.show()"
   ]
  },
  {
   "cell_type": "code",
   "execution_count": null,
   "metadata": {},
   "outputs": [],
   "source": []
  }
 ],
 "metadata": {
  "kernelspec": {
   "display_name": "Python 3",
   "language": "python",
   "name": "python3"
  },
  "language_info": {
   "codemirror_mode": {
    "name": "ipython",
    "version": 3
   },
   "file_extension": ".py",
   "mimetype": "text/x-python",
   "name": "python",
   "nbconvert_exporter": "python",
   "pygments_lexer": "ipython3",
   "version": "3.8.5"
  }
 },
 "nbformat": 4,
 "nbformat_minor": 4
}
